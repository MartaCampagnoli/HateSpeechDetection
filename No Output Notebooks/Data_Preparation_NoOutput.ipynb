{
  "cells": [
    {
      "cell_type": "markdown",
      "metadata": {
        "id": "view-in-github",
        "colab_type": "text"
      },
      "source": [
        "<a href=\"https://colab.research.google.com/github/MartaCampagnoli/HateSpeechDetection/blob/main/No%20Output%20Notebooks/Data_Preparation_NoOutput.ipynb\" target=\"_parent\"><img src=\"https://colab.research.google.com/assets/colab-badge.svg\" alt=\"Open In Colab\"/></a>"
      ]
    },
    {
      "cell_type": "code",
      "execution_count": null,
      "id": "a8062b72",
      "metadata": {
        "id": "a8062b72"
      },
      "outputs": [],
      "source": [
        "from google.colab import files\n",
        "import io\n",
        "import matplotlib.pyplot as plt\n",
        "import pandas as pd\n",
        "import numpy as np\n",
        "from sklearn.model_selection import train_test_split\n",
        "from sklearn.preprocessing import LabelEncoder\n",
        "import seaborn as sns\n",
        "import re\n",
        "import string"
      ]
    },
    {
      "cell_type": "code",
      "execution_count": null,
      "id": "39dd5a2e",
      "metadata": {
        "scrolled": true,
        "id": "39dd5a2e"
      },
      "outputs": [],
      "source": [
        "def clean_text(text): #standard text cleaning function with no stopwords removal\n",
        "    text = re.sub('<.*?>+', '', text)\n",
        "    text = re.sub('[%s]' % re.escape(string.punctuation), ' ', text)\n",
        "    text = re.sub('\\[.*?\\]', '', text)\n",
        "    text = re.sub(r'\\s+', ' ', text).strip()\n",
        "    text = text.encode('ascii', 'ignore').decode('ascii')\n",
        "    text = text.lower()\n",
        "    return text\n",
        "\n",
        "def encode_df(dataframe): #label encoder for six categories dataset\n",
        "    le = LabelEncoder()\n",
        "    for column in dataframe.columns:\n",
        "        dataframe['target'] = le.fit_transform(dataframe['target'])\n",
        "    return dataframe"
      ]
    },
    {
      "cell_type": "code",
      "source": [
        "uploaded = files.upload()\n",
        "df = pd.read_csv(io.BytesIO(uploaded['Dynamically Generated Hate Dataset.csv'])) #Dynamically Generated Hate Dataset.csv"
      ],
      "metadata": {
        "id": "VyYYsbm7bgsK"
      },
      "id": "VyYYsbm7bgsK",
      "execution_count": null,
      "outputs": []
    },
    {
      "cell_type": "code",
      "execution_count": null,
      "id": "d03b27ea",
      "metadata": {
        "scrolled": true,
        "id": "d03b27ea"
      },
      "outputs": [],
      "source": [
        "df"
      ]
    },
    {
      "cell_type": "code",
      "execution_count": null,
      "id": "d8a7591e",
      "metadata": {
        "id": "d8a7591e"
      },
      "outputs": [],
      "source": [
        "sns.countplot(x = 'label',data= df, palette = 'Greens')"
      ]
    },
    {
      "cell_type": "markdown",
      "id": "497a6505",
      "metadata": {
        "id": "497a6505"
      },
      "source": [
        "## New Dataset: Hate or Not?"
      ]
    },
    {
      "cell_type": "code",
      "execution_count": null,
      "id": "2e029c8a",
      "metadata": {
        "id": "2e029c8a"
      },
      "outputs": [],
      "source": [
        "dfnew = df[['text', 'label', 'level', 'target']]\n",
        "dfnew['text'] = dfnew['text'].astype(str).apply(clean_text)"
      ]
    },
    {
      "cell_type": "code",
      "execution_count": null,
      "id": "35eff419",
      "metadata": {
        "id": "35eff419"
      },
      "outputs": [],
      "source": [
        "dfnew[\"label\"].value_counts()"
      ]
    },
    {
      "cell_type": "code",
      "execution_count": null,
      "id": "b2a4bd58",
      "metadata": {
        "id": "b2a4bd58"
      },
      "outputs": [],
      "source": [
        "dfnew.to_csv('cleandata.csv',index =False)"
      ]
    },
    {
      "cell_type": "code",
      "execution_count": null,
      "id": "04b67608",
      "metadata": {
        "id": "04b67608"
      },
      "outputs": [],
      "source": [
        "#numerical labels\n",
        "dfnew.loc[dfnew['label'] == 'nothate', 'label'] = 0\n",
        "dfnew.loc[dfnew['label'] == 'hate', 'label'] = 1\n",
        "train,test=train_test_split(dfnew,test_size=0.30, random_state = 42)"
      ]
    },
    {
      "cell_type": "markdown",
      "source": [],
      "metadata": {
        "id": "4HyEHDwcQ3Xk"
      },
      "id": "4HyEHDwcQ3Xk"
    },
    {
      "cell_type": "code",
      "execution_count": null,
      "id": "bc7226e7",
      "metadata": {
        "scrolled": true,
        "id": "bc7226e7"
      },
      "outputs": [],
      "source": [
        "train['label'].value_counts()"
      ]
    },
    {
      "cell_type": "code",
      "execution_count": null,
      "id": "d861e87a",
      "metadata": {
        "id": "d861e87a"
      },
      "outputs": [],
      "source": [
        "sns.countplot(x = 'label',data= train, palette = 'Greens')"
      ]
    },
    {
      "cell_type": "code",
      "execution_count": null,
      "id": "de3a1c59",
      "metadata": {
        "scrolled": true,
        "id": "de3a1c59"
      },
      "outputs": [],
      "source": [
        "test['label'].value_counts()"
      ]
    },
    {
      "cell_type": "code",
      "execution_count": null,
      "id": "3729898c",
      "metadata": {
        "id": "3729898c"
      },
      "outputs": [],
      "source": [
        "test['level'].value_counts()"
      ]
    },
    {
      "cell_type": "code",
      "execution_count": null,
      "id": "40ad1e1c",
      "metadata": {
        "id": "40ad1e1c"
      },
      "outputs": [],
      "source": [
        "sns.countplot(x = 'label',data= test, palette = 'Greens')"
      ]
    },
    {
      "cell_type": "code",
      "execution_count": null,
      "id": "85eb5ea1",
      "metadata": {
        "id": "85eb5ea1"
      },
      "outputs": [],
      "source": [
        "train.to_csv('traindef.csv',index =False)"
      ]
    },
    {
      "cell_type": "code",
      "execution_count": null,
      "id": "b084a6f7",
      "metadata": {
        "id": "b084a6f7"
      },
      "outputs": [],
      "source": [
        "test.to_csv('testdef.csv',index =False)"
      ]
    },
    {
      "cell_type": "markdown",
      "id": "7a3f15fa",
      "metadata": {
        "id": "7a3f15fa"
      },
      "source": [
        "## New Dataset: Which kind of Hate?"
      ]
    },
    {
      "cell_type": "code",
      "execution_count": null,
      "id": "61ceff67",
      "metadata": {
        "id": "61ceff67"
      },
      "outputs": [],
      "source": [
        "dfnew[\"target\"].value_counts().head(11)"
      ]
    },
    {
      "cell_type": "code",
      "execution_count": null,
      "id": "480b7bb4",
      "metadata": {
        "id": "480b7bb4"
      },
      "outputs": [],
      "source": [
        "options = ['wom', 'bla', 'jew', 'mus', 'trans', 'gay']\n",
        "\n",
        "# selecting rows based on condition\n",
        "sixcat = dfnew[dfnew['target'].isin(options)]"
      ]
    },
    {
      "cell_type": "code",
      "execution_count": null,
      "id": "6d5cf468",
      "metadata": {
        "id": "6d5cf468"
      },
      "outputs": [],
      "source": [
        "sixcat= sixcat.reset_index(drop=True)"
      ]
    },
    {
      "cell_type": "code",
      "execution_count": null,
      "id": "185b986f",
      "metadata": {
        "id": "185b986f"
      },
      "outputs": [],
      "source": [
        "encode_df(sixcat)"
      ]
    },
    {
      "cell_type": "code",
      "execution_count": null,
      "id": "8fa9e518",
      "metadata": {
        "id": "8fa9e518"
      },
      "outputs": [],
      "source": [
        "sixcat['target'].value_counts()"
      ]
    },
    {
      "cell_type": "code",
      "execution_count": null,
      "id": "4bbcbedd",
      "metadata": {
        "id": "4bbcbedd"
      },
      "outputs": [],
      "source": [
        "sixcat.to_csv('sixcat.csv',index =False)\n",
        "trainsix,testsix=train_test_split(sixcat,test_size=0.30, random_state = 42)"
      ]
    },
    {
      "cell_type": "code",
      "execution_count": null,
      "id": "749faa7a",
      "metadata": {
        "id": "749faa7a"
      },
      "outputs": [],
      "source": [
        "sns.countplot(x = 'target',data= trainsix, palette = 'Greens')"
      ]
    },
    {
      "cell_type": "code",
      "execution_count": null,
      "id": "5038f403",
      "metadata": {
        "id": "5038f403"
      },
      "outputs": [],
      "source": [
        "sns.countplot(x = 'target',data= testsix, palette = 'Greens')"
      ]
    },
    {
      "cell_type": "code",
      "execution_count": null,
      "id": "41c20997",
      "metadata": {
        "id": "41c20997"
      },
      "outputs": [],
      "source": [
        "testsix['target'].value_counts()"
      ]
    },
    {
      "cell_type": "code",
      "execution_count": null,
      "id": "b3a6bec0",
      "metadata": {
        "id": "b3a6bec0"
      },
      "outputs": [],
      "source": [
        "trainsix.to_csv('trainsix.csv',index =False)\n",
        "testsix.to_csv('testsix.csv',index =False)"
      ]
    }
  ],
  "metadata": {
    "kernelspec": {
      "display_name": "Python 3 (ipykernel)",
      "language": "python",
      "name": "python3"
    },
    "language_info": {
      "codemirror_mode": {
        "name": "ipython",
        "version": 3
      },
      "file_extension": ".py",
      "mimetype": "text/x-python",
      "name": "python",
      "nbconvert_exporter": "python",
      "pygments_lexer": "ipython3",
      "version": "3.9.13"
    },
    "colab": {
      "provenance": [],
      "include_colab_link": true
    }
  },
  "nbformat": 4,
  "nbformat_minor": 5
}