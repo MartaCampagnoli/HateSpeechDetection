{
  "cells": [
    {
      "cell_type": "markdown",
      "metadata": {
        "id": "view-in-github",
        "colab_type": "text"
      },
      "source": [
        "<a href=\"https://colab.research.google.com/github/MartaCampagnoli/HateSpeechDetection/blob/main/Output%20Notebooks/Data_Preparation.ipynb\" target=\"_parent\"><img src=\"https://colab.research.google.com/assets/colab-badge.svg\" alt=\"Open In Colab\"/></a>"
      ]
    },
    {
      "cell_type": "code",
      "execution_count": null,
      "id": "a8062b72",
      "metadata": {
        "id": "a8062b72"
      },
      "outputs": [],
      "source": [
        "from google.colab import files\n",
        "import io\n",
        "import matplotlib.pyplot as plt\n",
        "import pandas as pd\n",
        "import numpy as np\n",
        "from sklearn.model_selection import train_test_split\n",
        "from sklearn.preprocessing import LabelEncoder\n",
        "import seaborn as sns\n",
        "import re\n",
        "import string"
      ]
    },
    {
      "cell_type": "code",
      "execution_count": null,
      "id": "39dd5a2e",
      "metadata": {
        "scrolled": true,
        "id": "39dd5a2e"
      },
      "outputs": [],
      "source": [
        "def clean_text(text): #standard text cleaning function with no stopwords removal\n",
        "    text = re.sub('<.*?>+', '', text)\n",
        "    text = re.sub('[%s]' % re.escape(string.punctuation), ' ', text)\n",
        "    text = re.sub('\\[.*?\\]', '', text)\n",
        "    text = re.sub(r'\\s+', ' ', text).strip()\n",
        "    text = text.encode('ascii', 'ignore').decode('ascii')\n",
        "    text = text.lower()\n",
        "    return text\n",
        "\n",
        "def encode_df(dataframe): #label encoder for six categories dataset\n",
        "    le = LabelEncoder()\n",
        "    for column in dataframe.columns:\n",
        "        dataframe['target'] = le.fit_transform(dataframe['target'])\n",
        "    return dataframe"
      ]
    },
    {
      "cell_type": "code",
      "source": [
        "uploaded = files.upload()\n",
        "df = pd.read_csv(io.BytesIO(uploaded['Dynamically Generated Hate Dataset.csv'])) #Dynamically Generated Hate Dataset.csv"
      ],
      "metadata": {
        "id": "VyYYsbm7bgsK"
      },
      "id": "VyYYsbm7bgsK",
      "execution_count": null,
      "outputs": []
    },
    {
      "cell_type": "code",
      "execution_count": null,
      "id": "d03b27ea",
      "metadata": {
        "scrolled": true,
        "id": "d03b27ea",
        "outputId": "3d870d49-4f3e-4ab5-c566-9e330171c176"
      },
      "outputs": [
        {
          "data": {
            "text/html": [
              "<div>\n",
              "<style scoped>\n",
              "    .dataframe tbody tr th:only-of-type {\n",
              "        vertical-align: middle;\n",
              "    }\n",
              "\n",
              "    .dataframe tbody tr th {\n",
              "        vertical-align: top;\n",
              "    }\n",
              "\n",
              "    .dataframe thead th {\n",
              "        text-align: right;\n",
              "    }\n",
              "</style>\n",
              "<table border=\"1\" class=\"dataframe\">\n",
              "  <thead>\n",
              "    <tr style=\"text-align: right;\">\n",
              "      <th></th>\n",
              "      <th>Unnamed: 0</th>\n",
              "      <th>acl.id</th>\n",
              "      <th>X1</th>\n",
              "      <th>text</th>\n",
              "      <th>label</th>\n",
              "      <th>type</th>\n",
              "      <th>target</th>\n",
              "      <th>level</th>\n",
              "      <th>split</th>\n",
              "      <th>round.base</th>\n",
              "      <th>annotator</th>\n",
              "      <th>round</th>\n",
              "      <th>acl.id.matched</th>\n",
              "    </tr>\n",
              "  </thead>\n",
              "  <tbody>\n",
              "    <tr>\n",
              "      <th>0</th>\n",
              "      <td>1</td>\n",
              "      <td>acl1</td>\n",
              "      <td>1</td>\n",
              "      <td>dalits are lowlives</td>\n",
              "      <td>hate</td>\n",
              "      <td>notgiven</td>\n",
              "      <td>notgiven</td>\n",
              "      <td>original</td>\n",
              "      <td>train</td>\n",
              "      <td>1</td>\n",
              "      <td>GNZuCtwed3</td>\n",
              "      <td>1</td>\n",
              "      <td>NaN</td>\n",
              "    </tr>\n",
              "    <tr>\n",
              "      <th>1</th>\n",
              "      <td>2</td>\n",
              "      <td>acl10</td>\n",
              "      <td>2</td>\n",
              "      <td>gay people are a burden to our society</td>\n",
              "      <td>hate</td>\n",
              "      <td>notgiven</td>\n",
              "      <td>notgiven</td>\n",
              "      <td>original</td>\n",
              "      <td>train</td>\n",
              "      <td>1</td>\n",
              "      <td>GNZuCtwed3</td>\n",
              "      <td>1</td>\n",
              "      <td>NaN</td>\n",
              "    </tr>\n",
              "    <tr>\n",
              "      <th>2</th>\n",
              "      <td>3</td>\n",
              "      <td>acl100</td>\n",
              "      <td>3</td>\n",
              "      <td>Arabs are not welcome</td>\n",
              "      <td>hate</td>\n",
              "      <td>notgiven</td>\n",
              "      <td>notgiven</td>\n",
              "      <td>original</td>\n",
              "      <td>train</td>\n",
              "      <td>1</td>\n",
              "      <td>vDe7GN0NrL</td>\n",
              "      <td>1</td>\n",
              "      <td>NaN</td>\n",
              "    </tr>\n",
              "    <tr>\n",
              "      <th>3</th>\n",
              "      <td>4</td>\n",
              "      <td>acl1000</td>\n",
              "      <td>4</td>\n",
              "      <td>I'm not saying we should actually eliminate he...</td>\n",
              "      <td>hate</td>\n",
              "      <td>notgiven</td>\n",
              "      <td>notgiven</td>\n",
              "      <td>original</td>\n",
              "      <td>train</td>\n",
              "      <td>1</td>\n",
              "      <td>oemYWm1Tjg</td>\n",
              "      <td>1</td>\n",
              "      <td>NaN</td>\n",
              "    </tr>\n",
              "    <tr>\n",
              "      <th>4</th>\n",
              "      <td>5</td>\n",
              "      <td>acl10000</td>\n",
              "      <td>5</td>\n",
              "      <td>bananas are for black people</td>\n",
              "      <td>hate</td>\n",
              "      <td>notgiven</td>\n",
              "      <td>notgiven</td>\n",
              "      <td>original</td>\n",
              "      <td>test</td>\n",
              "      <td>1</td>\n",
              "      <td>QiOKkCi7F8</td>\n",
              "      <td>1</td>\n",
              "      <td>NaN</td>\n",
              "    </tr>\n",
              "    <tr>\n",
              "      <th>...</th>\n",
              "      <td>...</td>\n",
              "      <td>...</td>\n",
              "      <td>...</td>\n",
              "      <td>...</td>\n",
              "      <td>...</td>\n",
              "      <td>...</td>\n",
              "      <td>...</td>\n",
              "      <td>...</td>\n",
              "      <td>...</td>\n",
              "      <td>...</td>\n",
              "      <td>...</td>\n",
              "      <td>...</td>\n",
              "      <td>...</td>\n",
              "    </tr>\n",
              "    <tr>\n",
              "      <th>41139</th>\n",
              "      <td>117100</td>\n",
              "      <td>acl9974</td>\n",
              "      <td>41228</td>\n",
              "      <td>Indian culture is so backwards</td>\n",
              "      <td>hate</td>\n",
              "      <td>notgiven</td>\n",
              "      <td>notgiven</td>\n",
              "      <td>original</td>\n",
              "      <td>test</td>\n",
              "      <td>1</td>\n",
              "      <td>GNZuCtwed3</td>\n",
              "      <td>1</td>\n",
              "      <td>NaN</td>\n",
              "    </tr>\n",
              "    <tr>\n",
              "      <th>41140</th>\n",
              "      <td>118100</td>\n",
              "      <td>acl11574</td>\n",
              "      <td>1752</td>\n",
              "      <td>Women don't want equality, they just want to b...</td>\n",
              "      <td>hate</td>\n",
              "      <td>derogation</td>\n",
              "      <td>wom</td>\n",
              "      <td>original</td>\n",
              "      <td>train</td>\n",
              "      <td>2</td>\n",
              "      <td>CAgNlUizNm</td>\n",
              "      <td>2a</td>\n",
              "      <td>acl11575</td>\n",
              "    </tr>\n",
              "    <tr>\n",
              "      <th>41141</th>\n",
              "      <td>119100</td>\n",
              "      <td>acl13446</td>\n",
              "      <td>3832</td>\n",
              "      <td>fuck covid</td>\n",
              "      <td>nothate</td>\n",
              "      <td>none</td>\n",
              "      <td>none</td>\n",
              "      <td>original</td>\n",
              "      <td>train</td>\n",
              "      <td>2</td>\n",
              "      <td>CAgNlUizNm</td>\n",
              "      <td>2a</td>\n",
              "      <td>acl13447</td>\n",
              "    </tr>\n",
              "    <tr>\n",
              "      <th>41142</th>\n",
              "      <td>1205</td>\n",
              "      <td>acl13457</td>\n",
              "      <td>3844</td>\n",
              "      <td>This computer is garbage</td>\n",
              "      <td>nothate</td>\n",
              "      <td>none</td>\n",
              "      <td>none</td>\n",
              "      <td>original</td>\n",
              "      <td>train</td>\n",
              "      <td>2</td>\n",
              "      <td>eLGzdD8Tvb</td>\n",
              "      <td>2a</td>\n",
              "      <td>acl13458</td>\n",
              "    </tr>\n",
              "    <tr>\n",
              "      <th>41143</th>\n",
              "      <td>121100</td>\n",
              "      <td>acl32095</td>\n",
              "      <td>24553</td>\n",
              "      <td>The only good Muslim is a dead one</td>\n",
              "      <td>hate</td>\n",
              "      <td>threatening</td>\n",
              "      <td>mus</td>\n",
              "      <td>original</td>\n",
              "      <td>train</td>\n",
              "      <td>4</td>\n",
              "      <td>IBsVsBliwX</td>\n",
              "      <td>4a</td>\n",
              "      <td>acl32096</td>\n",
              "    </tr>\n",
              "  </tbody>\n",
              "</table>\n",
              "<p>41144 rows × 13 columns</p>\n",
              "</div>"
            ],
            "text/plain": [
              "       Unnamed: 0    acl.id     X1  \\\n",
              "0               1      acl1      1   \n",
              "1               2     acl10      2   \n",
              "2               3    acl100      3   \n",
              "3               4   acl1000      4   \n",
              "4               5  acl10000      5   \n",
              "...           ...       ...    ...   \n",
              "41139      117100   acl9974  41228   \n",
              "41140      118100  acl11574   1752   \n",
              "41141      119100  acl13446   3832   \n",
              "41142        1205  acl13457   3844   \n",
              "41143      121100  acl32095  24553   \n",
              "\n",
              "                                                    text    label  \\\n",
              "0                                    dalits are lowlives     hate   \n",
              "1                 gay people are a burden to our society     hate   \n",
              "2                                  Arabs are not welcome     hate   \n",
              "3      I'm not saying we should actually eliminate he...     hate   \n",
              "4                           bananas are for black people     hate   \n",
              "...                                                  ...      ...   \n",
              "41139                     Indian culture is so backwards     hate   \n",
              "41140  Women don't want equality, they just want to b...     hate   \n",
              "41141                                         fuck covid  nothate   \n",
              "41142                           This computer is garbage  nothate   \n",
              "41143                 The only good Muslim is a dead one     hate   \n",
              "\n",
              "              type    target     level  split  round.base   annotator round  \\\n",
              "0         notgiven  notgiven  original  train           1  GNZuCtwed3     1   \n",
              "1         notgiven  notgiven  original  train           1  GNZuCtwed3     1   \n",
              "2         notgiven  notgiven  original  train           1  vDe7GN0NrL     1   \n",
              "3         notgiven  notgiven  original  train           1  oemYWm1Tjg     1   \n",
              "4         notgiven  notgiven  original   test           1  QiOKkCi7F8     1   \n",
              "...            ...       ...       ...    ...         ...         ...   ...   \n",
              "41139     notgiven  notgiven  original   test           1  GNZuCtwed3     1   \n",
              "41140   derogation       wom  original  train           2  CAgNlUizNm    2a   \n",
              "41141         none      none  original  train           2  CAgNlUizNm    2a   \n",
              "41142         none      none  original  train           2  eLGzdD8Tvb    2a   \n",
              "41143  threatening       mus  original  train           4  IBsVsBliwX    4a   \n",
              "\n",
              "      acl.id.matched  \n",
              "0                NaN  \n",
              "1                NaN  \n",
              "2                NaN  \n",
              "3                NaN  \n",
              "4                NaN  \n",
              "...              ...  \n",
              "41139            NaN  \n",
              "41140       acl11575  \n",
              "41141       acl13447  \n",
              "41142       acl13458  \n",
              "41143       acl32096  \n",
              "\n",
              "[41144 rows x 13 columns]"
            ]
          },
          "execution_count": 7,
          "metadata": {},
          "output_type": "execute_result"
        }
      ],
      "source": [
        "df"
      ]
    },
    {
      "cell_type": "code",
      "execution_count": null,
      "id": "d8a7591e",
      "metadata": {
        "id": "d8a7591e",
        "outputId": "333efe12-b3c3-4b36-beaa-95cf354008ce"
      },
      "outputs": [
        {
          "data": {
            "text/plain": [
              "<AxesSubplot:xlabel='label', ylabel='count'>"
            ]
          },
          "execution_count": 10,
          "metadata": {},
          "output_type": "execute_result"
        },
        {
          "data": {
            "image/png": "[encoded data removed]",
            "text/plain": [
              "<Figure size 640x480 with 1 Axes>"
            ]
          },
          "metadata": {},
          "output_type": "display_data"
        }
      ],
      "source": [
        "sns.countplot(x = 'label',data= df, palette = 'Greens')"
      ]
    },
    {
      "cell_type": "markdown",
      "id": "497a6505",
      "metadata": {
        "id": "497a6505"
      },
      "source": [
        "## New Dataset: Hate or Not?"
      ]
    },
    {
      "cell_type": "code",
      "execution_count": null,
      "id": "2e029c8a",
      "metadata": {
        "id": "2e029c8a"
      },
      "outputs": [],
      "source": [
        "dfnew = df[['text', 'label', 'level', 'target']]\n",
        "dfnew['text'] = dfnew['text'].astype(str).apply(clean_text)"
      ]
    },
    {
      "cell_type": "code",
      "execution_count": null,
      "id": "35eff419",
      "metadata": {
        "id": "35eff419",
        "outputId": "33a8cbdd-4047-4094-afc4-38975c8eba83"
      },
      "outputs": [
        {
          "data": {
            "text/plain": [
              "hate       22175\n",
              "nothate    18969\n",
              "Name: label, dtype: int64"
            ]
          },
          "execution_count": 19,
          "metadata": {},
          "output_type": "execute_result"
        }
      ],
      "source": [
        "dfnew[\"label\"].value_counts()"
      ]
    },
    {
      "cell_type": "code",
      "execution_count": null,
      "id": "b2a4bd58",
      "metadata": {
        "id": "b2a4bd58"
      },
      "outputs": [],
      "source": [
        "dfnew.to_csv('cleandata.csv',index =False)"
      ]
    },
    {
      "cell_type": "code",
      "execution_count": null,
      "id": "04b67608",
      "metadata": {
        "id": "04b67608"
      },
      "outputs": [],
      "source": [
        "#numerical labels\n",
        "dfnew.loc[dfnew['label'] == 'nothate', 'label'] = 0\n",
        "dfnew.loc[dfnew['label'] == 'hate', 'label'] = 1\n",
        "train,test=train_test_split(dfnew,test_size=0.30, random_state = 42)"
      ]
    },
    {
      "cell_type": "code",
      "execution_count": null,
      "id": "bc7226e7",
      "metadata": {
        "scrolled": true,
        "id": "bc7226e7",
        "outputId": "cdef4fd3-79e1-4825-f8ba-5fa0a3e5e95d"
      },
      "outputs": [
        {
          "data": {
            "text/plain": [
              "1    15542\n",
              "0    13258\n",
              "Name: label, dtype: int64"
            ]
          },
          "execution_count": 23,
          "metadata": {},
          "output_type": "execute_result"
        }
      ],
      "source": [
        "train['label'].value_counts()"
      ]
    },
    {
      "cell_type": "code",
      "execution_count": null,
      "id": "d861e87a",
      "metadata": {
        "id": "d861e87a",
        "outputId": "a8936778-cf74-4678-8c9a-db84ddf83245"
      },
      "outputs": [
        {
          "data": {
            "text/plain": [
              "<AxesSubplot:xlabel='label', ylabel='count'>"
            ]
          },
          "execution_count": 25,
          "metadata": {},
          "output_type": "execute_result"
        },
        {
          "data": {
            "image/png": "[encoded data removed]",
            "text/plain": [
              "<Figure size 640x480 with 1 Axes>"
            ]
          },
          "metadata": {},
          "output_type": "display_data"
        }
      ],
      "source": [
        "sns.countplot(x = 'label',data= train, palette = 'Greens')"
      ]
    },
    {
      "cell_type": "code",
      "execution_count": null,
      "id": "de3a1c59",
      "metadata": {
        "scrolled": true,
        "id": "de3a1c59",
        "outputId": "eb037e95-0e2f-4bb2-c845-1553d763dc58"
      },
      "outputs": [
        {
          "data": {
            "text/plain": [
              "1    6633\n",
              "0    5711\n",
              "Name: label, dtype: int64"
            ]
          },
          "execution_count": 27,
          "metadata": {},
          "output_type": "execute_result"
        }
      ],
      "source": [
        "test['label'].value_counts()"
      ]
    },
    {
      "cell_type": "code",
      "execution_count": null,
      "id": "40ad1e1c",
      "metadata": {
        "id": "40ad1e1c",
        "outputId": "138d38fc-a290-4c4f-8294-758aacdcaddb"
      },
      "outputs": [
        {
          "data": {
            "text/plain": [
              "<AxesSubplot:xlabel='label', ylabel='count'>"
            ]
          },
          "execution_count": 29,
          "metadata": {},
          "output_type": "execute_result"
        },
        {
          "data": {
            "image/png": "[encoded data removed]",
            "text/plain": [
              "<Figure size 640x480 with 1 Axes>"
            ]
          },
          "metadata": {},
          "output_type": "display_data"
        }
      ],
      "source": [
        "sns.countplot(x = 'label',data= test, palette = 'Greens')"
      ]
    },
    {
      "cell_type": "code",
      "execution_count": null,
      "id": "85eb5ea1",
      "metadata": {
        "id": "85eb5ea1"
      },
      "outputs": [],
      "source": [
        "train.to_csv('traindef.csv',index =False)"
      ]
    },
    {
      "cell_type": "code",
      "execution_count": null,
      "id": "b084a6f7",
      "metadata": {
        "id": "b084a6f7"
      },
      "outputs": [],
      "source": [
        "test.to_csv('testdef.csv',index =False)"
      ]
    },
    {
      "cell_type": "markdown",
      "id": "7a3f15fa",
      "metadata": {
        "id": "7a3f15fa"
      },
      "source": [
        "## New Dataset: Which kind of Hate?"
      ]
    },
    {
      "cell_type": "code",
      "execution_count": null,
      "id": "61ceff67",
      "metadata": {
        "id": "61ceff67",
        "outputId": "6af41944-1252-4482-9ce0-0d2db13738f0"
      },
      "outputs": [
        {
          "data": {
            "text/plain": [
              "none        18969\n",
              "notgiven     7110\n",
              "wom          2035\n",
              "bla          1961\n",
              "jew          1096\n",
              "mus          1002\n",
              "trans         792\n",
              "gay           724\n",
              "immig         672\n",
              "dis           489\n",
              "ref           470\n",
              "Name: target, dtype: int64"
            ]
          },
          "execution_count": 33,
          "metadata": {},
          "output_type": "execute_result"
        }
      ],
      "source": [
        "dfnew[\"target\"].value_counts().head(11)"
      ]
    },
    {
      "cell_type": "code",
      "execution_count": null,
      "id": "480b7bb4",
      "metadata": {
        "id": "480b7bb4"
      },
      "outputs": [],
      "source": [
        "options = ['wom', 'bla', 'jew', 'mus', 'trans', 'gay']\n",
        "\n",
        "# selecting rows based on condition\n",
        "sixcat = dfnew[dfnew['target'].isin(options)]"
      ]
    },
    {
      "cell_type": "code",
      "execution_count": null,
      "id": "6d5cf468",
      "metadata": {
        "id": "6d5cf468"
      },
      "outputs": [],
      "source": [
        "sixcat= sixcat.reset_index(drop=True)"
      ]
    },
    {
      "cell_type": "code",
      "execution_count": null,
      "id": "185b986f",
      "metadata": {
        "id": "185b986f",
        "outputId": "a3329a27-df54-4100-946e-95c52b57ba77"
      },
      "outputs": [
        {
          "data": {
            "text/html": [
              "<div>\n",
              "<style scoped>\n",
              "    .dataframe tbody tr th:only-of-type {\n",
              "        vertical-align: middle;\n",
              "    }\n",
              "\n",
              "    .dataframe tbody tr th {\n",
              "        vertical-align: top;\n",
              "    }\n",
              "\n",
              "    .dataframe thead th {\n",
              "        text-align: right;\n",
              "    }\n",
              "</style>\n",
              "<table border=\"1\" class=\"dataframe\">\n",
              "  <thead>\n",
              "    <tr style=\"text-align: right;\">\n",
              "      <th></th>\n",
              "      <th>text</th>\n",
              "      <th>label</th>\n",
              "      <th>level</th>\n",
              "      <th>target</th>\n",
              "    </tr>\n",
              "  </thead>\n",
              "  <tbody>\n",
              "    <tr>\n",
              "      <th>0</th>\n",
              "      <td>can you smell these dirty muzzies it s a bruta...</td>\n",
              "      <td>1</td>\n",
              "      <td>original</td>\n",
              "      <td>3</td>\n",
              "    </tr>\n",
              "    <tr>\n",
              "      <th>1</th>\n",
              "      <td>black people are all dirty stinky and lazy you...</td>\n",
              "      <td>1</td>\n",
              "      <td>perturbation</td>\n",
              "      <td>0</td>\n",
              "    </tr>\n",
              "    <tr>\n",
              "      <th>2</th>\n",
              "      <td>trans are sycophantic</td>\n",
              "      <td>1</td>\n",
              "      <td>original</td>\n",
              "      <td>4</td>\n",
              "    </tr>\n",
              "    <tr>\n",
              "      <th>3</th>\n",
              "      <td>yeah life is cunty but fucking hell get over i...</td>\n",
              "      <td>1</td>\n",
              "      <td>perturbation</td>\n",
              "      <td>5</td>\n",
              "    </tr>\n",
              "    <tr>\n",
              "      <th>4</th>\n",
              "      <td>there are absolutely loads of filthy muslims o...</td>\n",
              "      <td>1</td>\n",
              "      <td>perturbation</td>\n",
              "      <td>3</td>\n",
              "    </tr>\n",
              "    <tr>\n",
              "      <th>...</th>\n",
              "      <td>...</td>\n",
              "      <td>...</td>\n",
              "      <td>...</td>\n",
              "      <td>...</td>\n",
              "    </tr>\n",
              "    <tr>\n",
              "      <th>7605</th>\n",
              "      <td>italy looks nice but i m not sure its worth go...</td>\n",
              "      <td>1</td>\n",
              "      <td>perturbation</td>\n",
              "      <td>0</td>\n",
              "    </tr>\n",
              "    <tr>\n",
              "      <th>7606</th>\n",
              "      <td>men aren t damaged just a lot of pussies men b...</td>\n",
              "      <td>1</td>\n",
              "      <td>original</td>\n",
              "      <td>5</td>\n",
              "    </tr>\n",
              "    <tr>\n",
              "      <th>7607</th>\n",
              "      <td>in my opinion that s pretty much how it goes f...</td>\n",
              "      <td>1</td>\n",
              "      <td>perturbation</td>\n",
              "      <td>2</td>\n",
              "    </tr>\n",
              "    <tr>\n",
              "      <th>7608</th>\n",
              "      <td>women don t want equality they just want to be...</td>\n",
              "      <td>1</td>\n",
              "      <td>original</td>\n",
              "      <td>5</td>\n",
              "    </tr>\n",
              "    <tr>\n",
              "      <th>7609</th>\n",
              "      <td>the only good muslim is a dead one</td>\n",
              "      <td>1</td>\n",
              "      <td>original</td>\n",
              "      <td>3</td>\n",
              "    </tr>\n",
              "  </tbody>\n",
              "</table>\n",
              "<p>7610 rows × 4 columns</p>\n",
              "</div>"
            ],
            "text/plain": [
              "                                                   text label         level  \\\n",
              "0     can you smell these dirty muzzies it s a bruta...     1      original   \n",
              "1     black people are all dirty stinky and lazy you...     1  perturbation   \n",
              "2                                 trans are sycophantic     1      original   \n",
              "3     yeah life is cunty but fucking hell get over i...     1  perturbation   \n",
              "4     there are absolutely loads of filthy muslims o...     1  perturbation   \n",
              "...                                                 ...   ...           ...   \n",
              "7605  italy looks nice but i m not sure its worth go...     1  perturbation   \n",
              "7606  men aren t damaged just a lot of pussies men b...     1      original   \n",
              "7607  in my opinion that s pretty much how it goes f...     1  perturbation   \n",
              "7608  women don t want equality they just want to be...     1      original   \n",
              "7609                 the only good muslim is a dead one     1      original   \n",
              "\n",
              "      target  \n",
              "0          3  \n",
              "1          0  \n",
              "2          4  \n",
              "3          5  \n",
              "4          3  \n",
              "...      ...  \n",
              "7605       0  \n",
              "7606       5  \n",
              "7607       2  \n",
              "7608       5  \n",
              "7609       3  \n",
              "\n",
              "[7610 rows x 4 columns]"
            ]
          },
          "execution_count": 36,
          "metadata": {},
          "output_type": "execute_result"
        }
      ],
      "source": [
        "encode_df(sixcat)"
      ]
    },
    {
      "cell_type": "code",
      "execution_count": null,
      "id": "8fa9e518",
      "metadata": {
        "id": "8fa9e518",
        "outputId": "b5e55c6c-f416-45a7-dfec-b7105c3f9c32"
      },
      "outputs": [
        {
          "data": {
            "text/plain": [
              "5    2035\n",
              "0    1961\n",
              "2    1096\n",
              "3    1002\n",
              "4     792\n",
              "1     724\n",
              "Name: target, dtype: int64"
            ]
          },
          "execution_count": 37,
          "metadata": {},
          "output_type": "execute_result"
        }
      ],
      "source": [
        "sixcat['target'].value_counts()"
      ]
    },
    {
      "cell_type": "code",
      "execution_count": null,
      "id": "4bbcbedd",
      "metadata": {
        "id": "4bbcbedd"
      },
      "outputs": [],
      "source": [
        "sixcat.to_csv('sixcat.csv',index =False)\n",
        "trainsix,testsix=train_test_split(sixcat,test_size=0.30, random_state = 42)"
      ]
    },
    {
      "cell_type": "code",
      "execution_count": null,
      "id": "749faa7a",
      "metadata": {
        "id": "749faa7a",
        "outputId": "8f865abb-32d0-4a94-924a-c8b3415a5f54"
      },
      "outputs": [
        {
          "data": {
            "text/plain": [
              "<AxesSubplot:xlabel='target', ylabel='count'>"
            ]
          },
          "execution_count": 40,
          "metadata": {},
          "output_type": "execute_result"
        },
        {
          "data": {
            "image/png": "[encoded data removed]",
            "text/plain": [
              "<Figure size 640x480 with 1 Axes>"
            ]
          },
          "metadata": {},
          "output_type": "display_data"
        }
      ],
      "source": [
        "sns.countplot(x = 'target',data= trainsix, palette = 'Greens')"
      ]
    },
    {
      "cell_type": "code",
      "execution_count": null,
      "id": "5038f403",
      "metadata": {
        "id": "5038f403",
        "outputId": "3161a7f1-6e5d-4a99-d6dd-64057838689b"
      },
      "outputs": [
        {
          "data": {
            "text/plain": [
              "<AxesSubplot:xlabel='target', ylabel='count'>"
            ]
          },
          "execution_count": 42,
          "metadata": {},
          "output_type": "execute_result"
        },
        {
          "data": {
            "image/png": "[encoded data removed]",
            "text/plain": [
              "<Figure size 640x480 with 1 Axes>"
            ]
          },
          "metadata": {},
          "output_type": "display_data"
        }
      ],
      "source": [
        "sns.countplot(x = 'target',data= testsix, palette = 'Greens')"
      ]
    },
    {
      "cell_type": "code",
      "execution_count": null,
      "id": "41c20997",
      "metadata": {
        "id": "41c20997",
        "outputId": "25276d24-ffbe-43c1-bfff-00b13074a753"
      },
      "outputs": [
        {
          "data": {
            "text/plain": [
              "5    621\n",
              "0    590\n",
              "2    334\n",
              "3    299\n",
              "1    222\n",
              "4    217\n",
              "Name: target, dtype: int64"
            ]
          },
          "execution_count": 43,
          "metadata": {},
          "output_type": "execute_result"
        }
      ],
      "source": [
        "testsix['target'].value_counts()"
      ]
    },
    {
      "cell_type": "code",
      "execution_count": null,
      "id": "b3a6bec0",
      "metadata": {
        "id": "b3a6bec0"
      },
      "outputs": [],
      "source": [
        "trainsix.to_csv('trainsix.csv',index =False)\n",
        "testsix.to_csv('testsix.csv',index =False)"
      ]
    }
  ],
  "metadata": {
    "kernelspec": {
      "display_name": "Python 3 (ipykernel)",
      "language": "python",
      "name": "python3"
    },
    "language_info": {
      "codemirror_mode": {
        "name": "ipython",
        "version": 3
      },
      "file_extension": ".py",
      "mimetype": "text/x-python",
      "name": "python",
      "nbconvert_exporter": "python",
      "pygments_lexer": "ipython3",
      "version": "3.9.13"
    },
    "colab": {
      "provenance": [],
      "include_colab_link": true
    }
  },
  "nbformat": 4,
  "nbformat_minor": 5
}