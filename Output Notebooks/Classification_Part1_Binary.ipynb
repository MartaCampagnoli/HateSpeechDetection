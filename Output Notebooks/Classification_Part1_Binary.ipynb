{
  "cells": [
    {
      "cell_type": "markdown",
      "metadata": {
        "id": "view-in-github",
        "colab_type": "text"
      },
      "source": [
        "<a href=\"https://colab.research.google.com/github/MartaCampagnoli/HateSpeechDetection/blob/main/Output%20Notebooks/Classification_Part1_Binary.ipynb\" target=\"_parent\"><img src=\"https://colab.research.google.com/assets/colab-badge.svg\" alt=\"Open In Colab\"/></a>"
      ]
    },
    {
      "cell_type": "code",
      "execution_count": null,
      "id": "3b297a70",
      "metadata": {
        "scrolled": true,
        "id": "3b297a70"
      },
      "outputs": [],
      "source": [
        "#importing libraries\n",
        "from gensim.models import Word2Vec\n",
        "from google.colab import files\n",
        "import io\n",
        "import matplotlib.pyplot as plt\n",
        "import numpy as np\n",
        "import pandas as pd\n",
        "from sklearn.feature_extraction.text import TfidfVectorizer\n",
        "from sklearn.linear_model import LogisticRegression\n",
        "from sklearn.linear_model import SGDClassifier\n",
        "from sklearn import metrics\n",
        "from sklearn.metrics import classification_report, confusion_matrix, ConfusionMatrixDisplay\n",
        "from sklearn.model_selection import train_test_split\n",
        "from sklearn.preprocessing import LabelEncoder\n",
        "import nltk\n",
        "from nltk.corpus import stopwords\n",
        "from nltk.tokenize import word_tokenize\n",
        "import re\n",
        "import string\n",
        "from string import punctuation\n",
        "import xgboost as xgb\n",
        "import gensim.downloader\n",
        "import nltk\n",
        "nltk.download('stopwords')\n",
        "nltk.download('punkt')"
      ]
    },
    {
      "cell_type": "code",
      "execution_count": null,
      "id": "aa950a88",
      "metadata": {
        "id": "aa950a88"
      },
      "outputs": [],
      "source": [
        "#personalized set of stopwords\n",
        "stopwords = nltk.corpus.stopwords.words('english')\n",
        "exceptions = [\"no\", \"not\" , \"don't\", \"they\", \"them\"]\n",
        "stop = [word for word in stopwords if word not in exceptions]\n",
        "#stemmer\n",
        "stemmer = nltk.SnowballStemmer(\"english\")"
      ]
    },
    {
      "cell_type": "code",
      "execution_count": null,
      "id": "3c13cc68",
      "metadata": {
        "id": "3c13cc68"
      },
      "outputs": [],
      "source": [
        "#preprocessing function: stemming and stopwords removal\n",
        "def preprocess(text):\n",
        "    text = ''.join([word for word in text])\n",
        "    tokens = word_tokenize(text)\n",
        "    tokens = [word for word in tokens if word not in stop]\n",
        "    tokens = [stemmer.stem(w) for w in tokens]\n",
        "    return ' '.join(tokens)"
      ]
    },
    {
      "cell_type": "code",
      "source": [
        "def encode_df(dataframe): #label encoder\n",
        "    le = LabelEncoder()\n",
        "    for column in dataframe.columns:\n",
        "        dataframe['label'] = le.fit_transform(dataframe['label'])\n",
        "    return dataframe"
      ],
      "metadata": {
        "id": "wlRRHu_F070p"
      },
      "id": "wlRRHu_F070p",
      "execution_count": null,
      "outputs": []
    },
    {
      "cell_type": "code",
      "source": [
        "uploaded = files.upload() #cleandata.csv"
      ],
      "metadata": {
        "colab": {
          "base_uri": "https://localhost:8080/",
          "height": 73
        },
        "id": "W4DeHXepvl5D",
        "outputId": "e99c3541-6504-411d-fd76-f40ba9fe73fd"
      },
      "id": "W4DeHXepvl5D",
      "execution_count": null,
      "outputs": [
        {
          "output_type": "display_data",
          "data": {
            "text/plain": [
              "<IPython.core.display.HTML object>"
            ],
            "text/html": [
              "\n",
              "     <input type=\"file\" id=\"files-4b5c34e0-5f56-4226-879a-26dea16fd6ea\" name=\"files[]\" multiple disabled\n",
              "        style=\"border:none\" />\n",
              "     <output id=\"result-4b5c34e0-5f56-4226-879a-26dea16fd6ea\">\n",
              "      Upload widget is only available when the cell has been executed in the\n",
              "      current browser session. Please rerun this cell to enable.\n",
              "      </output>\n",
              "      <script>// Copyright 2017 Google LLC\n",
              "//\n",
              "// Licensed under the Apache License, Version 2.0 (the \"License\");\n",
              "// you may not use this file except in compliance with the License.\n",
              "// You may obtain a copy of the License at\n",
              "//\n",
              "//      http://www.apache.org/licenses/LICENSE-2.0\n",
              "//\n",
              "// Unless required by applicable law or agreed to in writing, software\n",
              "// distributed under the License is distributed on an \"AS IS\" BASIS,\n",
              "// WITHOUT WARRANTIES OR CONDITIONS OF ANY KIND, either express or implied.\n",
              "// See the License for the specific language governing permissions and\n",
              "// limitations under the License.\n",
              "\n",
              "/**\n",
              " * @fileoverview Helpers for google.colab Python module.\n",
              " */\n",
              "(function(scope) {\n",
              "function span(text, styleAttributes = {}) {\n",
              "  const element = document.createElement('span');\n",
              "  element.textContent = text;\n",
              "  for (const key of Object.keys(styleAttributes)) {\n",
              "    element.style[key] = styleAttributes[key];\n",
              "  }\n",
              "  return element;\n",
              "}\n",
              "\n",
              "// Max number of bytes which will be uploaded at a time.\n",
              "const MAX_PAYLOAD_SIZE = 100 * 1024;\n",
              "\n",
              "function _uploadFiles(inputId, outputId) {\n",
              "  const steps = uploadFilesStep(inputId, outputId);\n",
              "  const outputElement = document.getElementById(outputId);\n",
              "  // Cache steps on the outputElement to make it available for the next call\n",
              "  // to uploadFilesContinue from Python.\n",
              "  outputElement.steps = steps;\n",
              "\n",
              "  return _uploadFilesContinue(outputId);\n",
              "}\n",
              "\n",
              "// This is roughly an async generator (not supported in the browser yet),\n",
              "// where there are multiple asynchronous steps and the Python side is going\n",
              "// to poll for completion of each step.\n",
              "// This uses a Promise to block the python side on completion of each step,\n",
              "// then passes the result of the previous step as the input to the next step.\n",
              "function _uploadFilesContinue(outputId) {\n",
              "  const outputElement = document.getElementById(outputId);\n",
              "  const steps = outputElement.steps;\n",
              "\n",
              "  const next = steps.next(outputElement.lastPromiseValue);\n",
              "  return Promise.resolve(next.value.promise).then((value) => {\n",
              "    // Cache the last promise value to make it available to the next\n",
              "    // step of the generator.\n",
              "    outputElement.lastPromiseValue = value;\n",
              "    return next.value.response;\n",
              "  });\n",
              "}\n",
              "\n",
              "/**\n",
              " * Generator function which is called between each async step of the upload\n",
              " * process.\n",
              " * @param {string} inputId Element ID of the input file picker element.\n",
              " * @param {string} outputId Element ID of the output display.\n",
              " * @return {!Iterable<!Object>} Iterable of next steps.\n",
              " */\n",
              "function* uploadFilesStep(inputId, outputId) {\n",
              "  const inputElement = document.getElementById(inputId);\n",
              "  inputElement.disabled = false;\n",
              "\n",
              "  const outputElement = document.getElementById(outputId);\n",
              "  outputElement.innerHTML = '';\n",
              "\n",
              "  const pickedPromise = new Promise((resolve) => {\n",
              "    inputElement.addEventListener('change', (e) => {\n",
              "      resolve(e.target.files);\n",
              "    });\n",
              "  });\n",
              "\n",
              "  const cancel = document.createElement('button');\n",
              "  inputElement.parentElement.appendChild(cancel);\n",
              "  cancel.textContent = 'Cancel upload';\n",
              "  const cancelPromise = new Promise((resolve) => {\n",
              "    cancel.onclick = () => {\n",
              "      resolve(null);\n",
              "    };\n",
              "  });\n",
              "\n",
              "  // Wait for the user to pick the files.\n",
              "  const files = yield {\n",
              "    promise: Promise.race([pickedPromise, cancelPromise]),\n",
              "    response: {\n",
              "      action: 'starting',\n",
              "    }\n",
              "  };\n",
              "\n",
              "  cancel.remove();\n",
              "\n",
              "  // Disable the input element since further picks are not allowed.\n",
              "  inputElement.disabled = true;\n",
              "\n",
              "  if (!files) {\n",
              "    return {\n",
              "      response: {\n",
              "        action: 'complete',\n",
              "      }\n",
              "    };\n",
              "  }\n",
              "\n",
              "  for (const file of files) {\n",
              "    const li = document.createElement('li');\n",
              "    li.append(span(file.name, {fontWeight: 'bold'}));\n",
              "    li.append(span(\n",
              "        `(${file.type || 'n/a'}) - ${file.size} bytes, ` +\n",
              "        `last modified: ${\n",
              "            file.lastModifiedDate ? file.lastModifiedDate.toLocaleDateString() :\n",
              "                                    'n/a'} - `));\n",
              "    const percent = span('0% done');\n",
              "    li.appendChild(percent);\n",
              "\n",
              "    outputElement.appendChild(li);\n",
              "\n",
              "    const fileDataPromise = new Promise((resolve) => {\n",
              "      const reader = new FileReader();\n",
              "      reader.onload = (e) => {\n",
              "        resolve(e.target.result);\n",
              "      };\n",
              "      reader.readAsArrayBuffer(file);\n",
              "    });\n",
              "    // Wait for the data to be ready.\n",
              "    let fileData = yield {\n",
              "      promise: fileDataPromise,\n",
              "      response: {\n",
              "        action: 'continue',\n",
              "      }\n",
              "    };\n",
              "\n",
              "    // Use a chunked sending to avoid message size limits. See b/62115660.\n",
              "    let position = 0;\n",
              "    do {\n",
              "      const length = Math.min(fileData.byteLength - position, MAX_PAYLOAD_SIZE);\n",
              "      const chunk = new Uint8Array(fileData, position, length);\n",
              "      position += length;\n",
              "\n",
              "      const base64 = btoa(String.fromCharCode.apply(null, chunk));\n",
              "      yield {\n",
              "        response: {\n",
              "          action: 'append',\n",
              "          file: file.name,\n",
              "          data: base64,\n",
              "        },\n",
              "      };\n",
              "\n",
              "      let percentDone = fileData.byteLength === 0 ?\n",
              "          100 :\n",
              "          Math.round((position / fileData.byteLength) * 100);\n",
              "      percent.textContent = `${percentDone}% done`;\n",
              "\n",
              "    } while (position < fileData.byteLength);\n",
              "  }\n",
              "\n",
              "  // All done.\n",
              "  yield {\n",
              "    response: {\n",
              "      action: 'complete',\n",
              "    }\n",
              "  };\n",
              "}\n",
              "\n",
              "scope.google = scope.google || {};\n",
              "scope.google.colab = scope.google.colab || {};\n",
              "scope.google.colab._files = {\n",
              "  _uploadFiles,\n",
              "  _uploadFilesContinue,\n",
              "};\n",
              "})(self);\n",
              "</script> "
            ]
          },
          "metadata": {}
        },
        {
          "output_type": "stream",
          "name": "stdout",
          "text": [
            "Saving cleandata.csv to cleandata.csv\n"
          ]
        }
      ]
    },
    {
      "cell_type": "code",
      "source": [
        "df = pd.read_csv(io.BytesIO(uploaded['cleandata.csv']))"
      ],
      "metadata": {
        "id": "hnLjbOB0vrlL"
      },
      "id": "hnLjbOB0vrlL",
      "execution_count": null,
      "outputs": []
    },
    {
      "cell_type": "code",
      "source": [
        "df = encode_df(df)"
      ],
      "metadata": {
        "id": "JBv0f0Wj1Jz0"
      },
      "id": "JBv0f0Wj1Jz0",
      "execution_count": null,
      "outputs": []
    },
    {
      "cell_type": "code",
      "source": [
        "train, test = train_test_split(df ,test_size=0.30, random_state = 42)"
      ],
      "metadata": {
        "id": "Ggjloon9ueIs"
      },
      "id": "Ggjloon9ueIs",
      "execution_count": null,
      "outputs": []
    },
    {
      "cell_type": "code",
      "execution_count": null,
      "id": "a4d20774",
      "metadata": {
        "id": "a4d20774"
      },
      "outputs": [],
      "source": [
        "#setting training and test\n",
        "X_train, X_test, y_train, y_test = train['text'], test['text'], train['label'], test['label']"
      ]
    },
    {
      "cell_type": "code",
      "execution_count": null,
      "id": "9a7f8896",
      "metadata": {
        "id": "9a7f8896"
      },
      "outputs": [],
      "source": [
        "X_train = X_train.apply(preprocess)\n",
        "X_test = X_test.apply(preprocess)"
      ]
    },
    {
      "cell_type": "code",
      "execution_count": null,
      "id": "9f672889",
      "metadata": {
        "id": "9f672889"
      },
      "outputs": [],
      "source": [
        "#tf idf\n",
        "tf_idf = TfidfVectorizer()\n",
        "X_train_tf = tf_idf.fit_transform(X_train)\n",
        "X_test_tf = tf_idf.transform(X_test)"
      ]
    },
    {
      "cell_type": "code",
      "execution_count": null,
      "id": "22c15f68",
      "metadata": {
        "id": "22c15f68"
      },
      "outputs": [],
      "source": [
        "#word2vec\n",
        "sentences = [sentence.split() for sentence in X_train]"
      ]
    },
    {
      "cell_type": "markdown",
      "id": "3cbff033",
      "metadata": {
        "id": "3cbff033"
      },
      "source": [
        "## XGBoost TFIDF"
      ]
    },
    {
      "cell_type": "code",
      "execution_count": null,
      "id": "eb39a125",
      "metadata": {
        "scrolled": true,
        "id": "eb39a125"
      },
      "outputs": [],
      "source": [
        "xgbtf = xgb.XGBClassifier()\n",
        "xgbtf.fit(X_train_tf, y_train)"
      ]
    },
    {
      "cell_type": "code",
      "execution_count": null,
      "id": "6cd35806",
      "metadata": {
        "id": "6cd35806",
        "outputId": "23a6213a-3921-4040-a464-7bc3440e94ee",
        "colab": {
          "base_uri": "https://localhost:8080/",
          "height": 623
        }
      },
      "outputs": [
        {
          "output_type": "stream",
          "name": "stdout",
          "text": [
            "              precision    recall  f1-score   support\n",
            "\n",
            "           0       0.71      0.70      0.71      6633\n",
            "           1       0.66      0.67      0.66      5711\n",
            "\n",
            "    accuracy                           0.69     12344\n",
            "   macro avg       0.68      0.68      0.68     12344\n",
            "weighted avg       0.69      0.69      0.69     12344\n",
            "\n"
          ]
        },
        {
          "output_type": "execute_result",
          "data": {
            "text/plain": [
              "<sklearn.metrics._plot.confusion_matrix.ConfusionMatrixDisplay at 0x7e128fa4d360>"
            ]
          },
          "metadata": {},
          "execution_count": 14
        },
        {
          "output_type": "display_data",
          "data": {
            "text/plain": [
              "<Figure size 640x480 with 2 Axes>"
            ],
            "image/png": "[encoded data removed]"
          },
          "metadata": {}
        }
      ],
      "source": [
        "y_pred = xgbtf.predict(X_test_tf)\n",
        "print(metrics.classification_report(y_test, y_pred))\n",
        "ConfusionMatrixDisplay.from_predictions(y_test, y_pred, cmap = 'summer')"
      ]
    },
    {
      "cell_type": "markdown",
      "id": "6f785d8c",
      "metadata": {
        "id": "6f785d8c"
      },
      "source": [
        "## Logistic Regression TFIDF"
      ]
    },
    {
      "cell_type": "code",
      "execution_count": null,
      "id": "097068b8",
      "metadata": {
        "id": "097068b8"
      },
      "outputs": [],
      "source": [
        "lrtf = LogisticRegression(solver='sag', verbose = 1)\n",
        "lrtf.fit(X_train_tf, y_train)"
      ]
    },
    {
      "cell_type": "code",
      "execution_count": null,
      "id": "3532f31f",
      "metadata": {
        "id": "3532f31f",
        "outputId": "a99d2073-26c3-4f13-e78e-d4c0ed545629",
        "colab": {
          "base_uri": "https://localhost:8080/",
          "height": 623
        }
      },
      "outputs": [
        {
          "output_type": "stream",
          "name": "stdout",
          "text": [
            "              precision    recall  f1-score   support\n",
            "\n",
            "           0       0.69      0.72      0.70      6633\n",
            "           1       0.66      0.62      0.64      5711\n",
            "\n",
            "    accuracy                           0.67     12344\n",
            "   macro avg       0.67      0.67      0.67     12344\n",
            "weighted avg       0.67      0.67      0.67     12344\n",
            "\n"
          ]
        },
        {
          "output_type": "execute_result",
          "data": {
            "text/plain": [
              "<sklearn.metrics._plot.confusion_matrix.ConfusionMatrixDisplay at 0x7e12a87aa830>"
            ]
          },
          "metadata": {},
          "execution_count": 16
        },
        {
          "output_type": "display_data",
          "data": {
            "text/plain": [
              "<Figure size 640x480 with 2 Axes>"
            ],
            "image/png": "[encoded data removed]"
          },
          "metadata": {}
        }
      ],
      "source": [
        "y_pred = lrtf.predict(X_test_tf)\n",
        "print(classification_report(y_test, y_pred))\n",
        "ConfusionMatrixDisplay.from_predictions(y_test, y_pred, cmap = 'summer')"
      ]
    },
    {
      "cell_type": "markdown",
      "id": "4608c971",
      "metadata": {
        "id": "4608c971"
      },
      "source": [
        "## SGD TFIDF"
      ]
    },
    {
      "cell_type": "code",
      "execution_count": null,
      "id": "7294a662",
      "metadata": {
        "id": "7294a662",
        "outputId": "ff2fb4b1-ed5a-4246-bf8f-c14c44eb16e5",
        "colab": {
          "base_uri": "https://localhost:8080/",
          "height": 623
        }
      },
      "outputs": [
        {
          "output_type": "stream",
          "name": "stdout",
          "text": [
            "              precision    recall  f1-score   support\n",
            "\n",
            "           0       0.70      0.71      0.70      6633\n",
            "           1       0.66      0.64      0.65      5711\n",
            "\n",
            "    accuracy                           0.68     12344\n",
            "   macro avg       0.68      0.68      0.68     12344\n",
            "weighted avg       0.68      0.68      0.68     12344\n",
            "\n"
          ]
        },
        {
          "output_type": "execute_result",
          "data": {
            "text/plain": [
              "<sklearn.metrics._plot.confusion_matrix.ConfusionMatrixDisplay at 0x7e128be927a0>"
            ]
          },
          "metadata": {},
          "execution_count": 17
        },
        {
          "output_type": "display_data",
          "data": {
            "text/plain": [
              "<Figure size 640x480 with 2 Axes>"
            ],
            "image/png": "[encoded data removed]"
          },
          "metadata": {}
        }
      ],
      "source": [
        "#sgd\n",
        "sgdtf = SGDClassifier(random_state=5)\n",
        "sgdtf.fit(X_train_tf, y_train)\n",
        "y_pred = sgdtf.predict(X_test_tf)\n",
        "\n",
        "print(classification_report(y_test, y_pred))\n",
        "ConfusionMatrixDisplay.from_predictions(y_test, y_pred, cmap = 'summer')"
      ]
    },
    {
      "cell_type": "markdown",
      "id": "52762f34",
      "metadata": {
        "id": "52762f34"
      },
      "source": [
        "## Word2vec: training the embeddings"
      ]
    },
    {
      "cell_type": "code",
      "execution_count": null,
      "id": "ee78ea80",
      "metadata": {
        "id": "ee78ea80"
      },
      "outputs": [],
      "source": [
        "w2v_model = Word2Vec(sentences, vector_size=300, window=2, min_count=10, workers=4)"
      ]
    },
    {
      "cell_type": "code",
      "execution_count": null,
      "id": "a7e67a15",
      "metadata": {
        "id": "a7e67a15"
      },
      "outputs": [],
      "source": [
        "def vectorize(sentence):\n",
        "    words = sentence.split()\n",
        "    words_vecs = [w2v_model.wv[word] for word in words if word in w2v_model.wv]\n",
        "    if len(words_vecs) == 0:\n",
        "        return np.zeros(300)\n",
        "    words_vecs = np.array(words_vecs)\n",
        "    return words_vecs.mean(axis=0)"
      ]
    },
    {
      "cell_type": "code",
      "execution_count": null,
      "id": "5fe78c4c",
      "metadata": {
        "id": "5fe78c4c"
      },
      "outputs": [],
      "source": [
        "X_trainw2c = np.array([vectorize(sentence) for sentence in X_train])\n",
        "X_testw2c = np.array([vectorize(sentence) for sentence in X_test])"
      ]
    },
    {
      "cell_type": "code",
      "execution_count": null,
      "id": "c7193334",
      "metadata": {
        "scrolled": true,
        "id": "c7193334"
      },
      "outputs": [],
      "source": [
        "#xgboost\n",
        "xgtrainw = xgb.XGBClassifier()\n",
        "xgtrainw.fit(X_trainw2c, y_train)"
      ]
    },
    {
      "cell_type": "code",
      "execution_count": null,
      "id": "a4bfb817",
      "metadata": {
        "id": "a4bfb817",
        "outputId": "84c134f2-20b9-4145-aa5e-e940b7a1ae80",
        "colab": {
          "base_uri": "https://localhost:8080/",
          "height": 623
        }
      },
      "outputs": [
        {
          "output_type": "stream",
          "name": "stdout",
          "text": [
            "              precision    recall  f1-score   support\n",
            "\n",
            "           0       0.61      0.65      0.63      6633\n",
            "           1       0.56      0.51      0.53      5711\n",
            "\n",
            "    accuracy                           0.59     12344\n",
            "   macro avg       0.58      0.58      0.58     12344\n",
            "weighted avg       0.59      0.59      0.59     12344\n",
            "\n"
          ]
        },
        {
          "output_type": "execute_result",
          "data": {
            "text/plain": [
              "<sklearn.metrics._plot.confusion_matrix.ConfusionMatrixDisplay at 0x7e1289c37220>"
            ]
          },
          "metadata": {},
          "execution_count": 22
        },
        {
          "output_type": "display_data",
          "data": {
            "text/plain": [
              "<Figure size 640x480 with 2 Axes>"
            ],
            "image/png": "[encoded data removed]"
          },
          "metadata": {}
        }
      ],
      "source": [
        "y_pred = xgtrainw.predict(X_testw2c)\n",
        "print(metrics.classification_report(y_test, y_pred))\n",
        "ConfusionMatrixDisplay.from_predictions(y_test, y_pred, cmap = 'summer')"
      ]
    },
    {
      "cell_type": "code",
      "execution_count": null,
      "id": "d7fc4165",
      "metadata": {
        "id": "d7fc4165",
        "outputId": "cbb5bf8f-824b-4662-fc51-7626d6a5d066",
        "colab": {
          "base_uri": "https://localhost:8080/",
          "height": 623
        }
      },
      "outputs": [
        {
          "output_type": "stream",
          "name": "stdout",
          "text": [
            "              precision    recall  f1-score   support\n",
            "\n",
            "           0       0.57      0.94      0.71      6633\n",
            "           1       0.72      0.19      0.30      5711\n",
            "\n",
            "    accuracy                           0.59     12344\n",
            "   macro avg       0.65      0.56      0.51     12344\n",
            "weighted avg       0.64      0.59      0.52     12344\n",
            "\n"
          ]
        },
        {
          "output_type": "execute_result",
          "data": {
            "text/plain": [
              "<sklearn.metrics._plot.confusion_matrix.ConfusionMatrixDisplay at 0x7e128be51480>"
            ]
          },
          "metadata": {},
          "execution_count": 23
        },
        {
          "output_type": "display_data",
          "data": {
            "text/plain": [
              "<Figure size 640x480 with 2 Axes>"
            ],
            "image/png": "[encoded data removed]"
          },
          "metadata": {}
        }
      ],
      "source": [
        "#sgd\n",
        "sgdtrainw = SGDClassifier(random_state=5)\n",
        "sgdtrainw.fit(X_trainw2c, y_train)\n",
        "y_pred = sgdtrainw.predict(X_testw2c)\n",
        "\n",
        "print(classification_report(y_test, y_pred))\n",
        "ConfusionMatrixDisplay.from_predictions(y_test, y_pred, cmap = 'summer')"
      ]
    },
    {
      "cell_type": "markdown",
      "id": "3c78a13b",
      "metadata": {
        "id": "3c78a13b"
      },
      "source": [
        "## Word2Vec: pretrained embeddings"
      ]
    },
    {
      "cell_type": "code",
      "execution_count": null,
      "id": "a4d541f3",
      "metadata": {
        "id": "a4d541f3",
        "outputId": "2d29147e-23be-4e96-8e11-94772a6c0392",
        "colab": {
          "base_uri": "https://localhost:8080/"
        }
      },
      "outputs": [
        {
          "output_type": "stream",
          "name": "stdout",
          "text": [
            "['fasttext-wiki-news-subwords-300', 'conceptnet-numberbatch-17-06-300', 'word2vec-ruscorpora-300', 'word2vec-google-news-300', 'glove-wiki-gigaword-50', 'glove-wiki-gigaword-100', 'glove-wiki-gigaword-200', 'glove-wiki-gigaword-300', 'glove-twitter-25', 'glove-twitter-50', 'glove-twitter-100', 'glove-twitter-200', '__testing_word2vec-matrix-synopsis']\n"
          ]
        }
      ],
      "source": [
        "# Show all available models in gensim-data\n",
        "print(list(gensim.downloader.info()['models'].keys()))"
      ]
    },
    {
      "cell_type": "code",
      "execution_count": null,
      "id": "5ce1a56b",
      "metadata": {
        "id": "5ce1a56b",
        "colab": {
          "base_uri": "https://localhost:8080/"
        },
        "outputId": "9d91c83d-2168-4719-e891-3a094662abc8"
      },
      "outputs": [
        {
          "output_type": "stream",
          "name": "stdout",
          "text": [
            "[==================================================] 100.0% 1662.8/1662.8MB downloaded\n",
            "[==================================================] 100.0% 958.5/958.4MB downloaded\n"
          ]
        }
      ],
      "source": [
        "w2vvectors =  gensim.downloader.load('word2vec-google-news-300')\n",
        "textfast = gensim.downloader.load('fasttext-wiki-news-subwords-300')"
      ]
    },
    {
      "cell_type": "code",
      "execution_count": null,
      "id": "da5eea03",
      "metadata": {
        "id": "da5eea03"
      },
      "outputs": [],
      "source": [
        "def vectorizew2c(sentence):\n",
        "    words = sentence.split()\n",
        "    words_vecs = [w2vvectors[word] for word in words if word in w2vvectors]\n",
        "    if len(words_vecs) == 0:\n",
        "        return np.zeros(300)\n",
        "    words_vecs = np.array(words_vecs)\n",
        "    return words_vecs.mean(axis=0)\n",
        "\n",
        "def vectorizetextfast(sentence):\n",
        "    words = sentence.split()\n",
        "    words_vecs = [textfast[word] for word in words if word in textfast]\n",
        "    if len(words_vecs) == 0:\n",
        "        return np.zeros(300)\n",
        "    words_vecs = np.array(words_vecs)\n",
        "    return words_vecs.mean(axis=0)\n"
      ]
    },
    {
      "cell_type": "code",
      "execution_count": null,
      "id": "6365bc40",
      "metadata": {
        "id": "6365bc40"
      },
      "outputs": [],
      "source": [
        "#word2vec"
      ]
    },
    {
      "cell_type": "code",
      "execution_count": null,
      "id": "5745ffcc",
      "metadata": {
        "id": "5745ffcc"
      },
      "outputs": [],
      "source": [
        "X_trainvec = np.array([vectorizew2c(sentence) for sentence in X_train])\n",
        "X_testvec = np.array([vectorizew2c(sentence) for sentence in X_test])"
      ]
    },
    {
      "cell_type": "code",
      "execution_count": null,
      "id": "76366bf0",
      "metadata": {
        "id": "76366bf0"
      },
      "outputs": [],
      "source": [
        "xgbw2v = xgb.XGBClassifier()\n",
        "xgbw2v.fit(X_trainvec, y_train)"
      ]
    },
    {
      "cell_type": "code",
      "execution_count": null,
      "id": "f92c2435",
      "metadata": {
        "id": "f92c2435",
        "outputId": "927d79e0-d944-47d2-b1ef-1107916b3484",
        "colab": {
          "base_uri": "https://localhost:8080/",
          "height": 623
        }
      },
      "outputs": [
        {
          "output_type": "stream",
          "name": "stdout",
          "text": [
            "              precision    recall  f1-score   support\n",
            "\n",
            "           0       0.63      0.66      0.64      6633\n",
            "           1       0.58      0.54      0.56      5711\n",
            "\n",
            "    accuracy                           0.61     12344\n",
            "   macro avg       0.60      0.60      0.60     12344\n",
            "weighted avg       0.60      0.61      0.60     12344\n",
            "\n"
          ]
        },
        {
          "output_type": "execute_result",
          "data": {
            "text/plain": [
              "<sklearn.metrics._plot.confusion_matrix.ConfusionMatrixDisplay at 0x7e128836e110>"
            ]
          },
          "metadata": {},
          "execution_count": 30
        },
        {
          "output_type": "display_data",
          "data": {
            "text/plain": [
              "<Figure size 640x480 with 2 Axes>"
            ],
            "image/png": "[encoded data removed]"
          },
          "metadata": {}
        }
      ],
      "source": [
        "y_pred = xgbw2v.predict(X_testvec)\n",
        "print(metrics.classification_report(y_test, y_pred))\n",
        "ConfusionMatrixDisplay.from_predictions(y_test, y_pred, cmap = 'summer')"
      ]
    },
    {
      "cell_type": "code",
      "execution_count": null,
      "id": "6db21650",
      "metadata": {
        "id": "6db21650"
      },
      "outputs": [],
      "source": [
        "#fasttext"
      ]
    },
    {
      "cell_type": "code",
      "execution_count": null,
      "id": "3c67ed63",
      "metadata": {
        "id": "3c67ed63"
      },
      "outputs": [],
      "source": [
        "X_traintext = np.array([vectorizetextfast(sentence) for sentence in X_train])\n",
        "X_testtext = np.array([vectorizetextfast(sentence) for sentence in X_test])"
      ]
    },
    {
      "cell_type": "code",
      "execution_count": null,
      "id": "6ce2080e",
      "metadata": {
        "id": "6ce2080e",
        "outputId": "84954232-f497-43ae-e834-f58955cc0fdb",
        "colab": {
          "base_uri": "https://localhost:8080/",
          "height": 623
        }
      },
      "outputs": [
        {
          "output_type": "stream",
          "name": "stdout",
          "text": [
            "              precision    recall  f1-score   support\n",
            "\n",
            "           0       0.63      0.67      0.65      6633\n",
            "           1       0.59      0.54      0.56      5711\n",
            "\n",
            "    accuracy                           0.61     12344\n",
            "   macro avg       0.61      0.61      0.61     12344\n",
            "weighted avg       0.61      0.61      0.61     12344\n",
            "\n"
          ]
        },
        {
          "output_type": "execute_result",
          "data": {
            "text/plain": [
              "<sklearn.metrics._plot.confusion_matrix.ConfusionMatrixDisplay at 0x7e128836ec50>"
            ]
          },
          "metadata": {},
          "execution_count": 33
        },
        {
          "output_type": "display_data",
          "data": {
            "text/plain": [
              "<Figure size 640x480 with 2 Axes>"
            ],
            "image/png": "[encoded data removed]"
          },
          "metadata": {}
        }
      ],
      "source": [
        "xgbtext = xgb.XGBClassifier()\n",
        "xgbtext.fit(X_traintext, y_train)\n",
        "y_pred = xgbtext.predict(X_testtext)\n",
        "print(metrics.classification_report(y_test, y_pred))\n",
        "ConfusionMatrixDisplay.from_predictions(y_test, y_pred, cmap = 'summer')"
      ]
    }
  ],
  "metadata": {
    "kernelspec": {
      "display_name": "Python 3 (ipykernel)",
      "language": "python",
      "name": "python3"
    },
    "language_info": {
      "codemirror_mode": {
        "name": "ipython",
        "version": 3
      },
      "file_extension": ".py",
      "mimetype": "text/x-python",
      "name": "python",
      "nbconvert_exporter": "python",
      "pygments_lexer": "ipython3",
      "version": "3.9.13"
    },
    "colab": {
      "provenance": [],
      "include_colab_link": true
    }
  },
  "nbformat": 4,
  "nbformat_minor": 5
}